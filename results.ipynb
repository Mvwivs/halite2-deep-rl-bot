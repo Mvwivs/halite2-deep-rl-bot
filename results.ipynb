{
 "metadata": {
  "language_info": {
   "codemirror_mode": {
    "name": "ipython",
    "version": 3
   },
   "file_extension": ".py",
   "mimetype": "text/x-python",
   "name": "python",
   "nbconvert_exporter": "python",
   "pygments_lexer": "ipython3",
   "version": "3.8.5-final"
  },
  "orig_nbformat": 2,
  "kernelspec": {
   "name": "python3",
   "display_name": "Python 3.8.5 64-bit ('venv')",
   "metadata": {
    "interpreter": {
     "hash": "342deff7968d375773077c51e6f1efcff39c33802645cf4091cfcace33a77b3e"
    }
   }
  }
 },
 "nbformat": 4,
 "nbformat_minor": 2,
 "cells": [
  {
   "cell_type": "code",
   "execution_count": null,
   "metadata": {},
   "outputs": [],
   "source": [
    "import csv\n",
    "import numpy as np\n",
    "import matplotlib.pyplot as plt\n",
    "import pandas as pd\n",
    "from collections import defaultdict"
   ]
  },
  {
   "cell_type": "code",
   "execution_count": null,
   "metadata": {
    "tags": []
   },
   "outputs": [],
   "source": [
    "def load_data(path, delimeter):\n",
    "    reader = csv.reader(open(path, \"r\"), delimiter=delimeter)\n",
    "    headers = next(reader, None)\n",
    "    x = list(reader)\n",
    "    data = np.array(x)\n",
    "    out = defaultdict(list)\n",
    "    for record in data:\n",
    "        for i in range(0, len(record)):\n",
    "            out[headers[i]].append(float(record[i]))\n",
    "    out = dict(out)\n",
    "    return out, headers\n"
   ]
  },
  {
   "cell_type": "code",
   "execution_count": null,
   "metadata": {
    "tags": []
   },
   "outputs": [],
   "source": [
    "def plot_data(data, headers):\n",
    "    for h in headers:\n",
    "        if h != 'step' and h != 'episode':\n",
    "            plt.plot(data['step'], data[h])\n",
    "            plt.title(h)\n",
    "            plt.show()"
   ]
  },
  {
   "cell_type": "code",
   "execution_count": null,
   "metadata": {},
   "outputs": [],
   "source": [
    "data, headers = load_data(\"results_dqn/res.csv\", delimeter=\";\")\n",
    "print(\"DQN\")\n",
    "plot_data(data, headers)"
   ]
  },
  {
   "cell_type": "code",
   "execution_count": null,
   "metadata": {},
   "outputs": [],
   "source": [
    "data, headers = load_data(\"results_ddpg/res.csv\", delimeter=';')\n",
    "print(\"DDPG\")\n",
    "plot_data(data, headers)"
   ]
  },
  {
   "cell_type": "code",
   "execution_count": null,
   "metadata": {},
   "outputs": [],
   "source": []
  },
  {
   "cell_type": "code",
   "execution_count": null,
   "metadata": {},
   "outputs": [],
   "source": []
  }
 ]
}