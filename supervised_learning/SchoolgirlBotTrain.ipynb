{
 "metadata": {
  "language_info": {
   "codemirror_mode": {
    "name": "ipython",
    "version": 3
   },
   "file_extension": ".py",
   "mimetype": "text/x-python",
   "name": "python",
   "nbconvert_exporter": "python",
   "pygments_lexer": "ipython3",
   "version": "3.8.5-final"
  },
  "orig_nbformat": 2,
  "kernelspec": {
   "name": "Python 3.8.5 64-bit ('venv')",
   "display_name": "Python 3.8.5 64-bit ('venv')",
   "metadata": {
    "interpreter": {
     "hash": "342deff7968d375773077c51e6f1efcff39c33802645cf4091cfcace33a77b3e"
    }
   }
  }
 },
 "nbformat": 4,
 "nbformat_minor": 2,
 "cells": [
  {
   "cell_type": "code",
   "execution_count": null,
   "metadata": {
    "tags": []
   },
   "outputs": [],
   "source": [
    "from time import time\n",
    "import gc\n",
    "\n",
    "import numpy as np\n",
    "import tensorflow as tf\n",
    "from tensorflow.keras.models import Sequential\n",
    "from tensorflow.keras.layers import Dense, Activation, Flatten, Input, Dropout\n",
    "from tensorflow.keras.optimizers import Adam, SGD"
   ]
  },
  {
   "cell_type": "code",
   "execution_count": null,
   "metadata": {},
   "outputs": [],
   "source": [
    "batch_size = 8192\n",
    "epochs = 100"
   ]
  },
  {
   "cell_type": "code",
   "execution_count": null,
   "metadata": {},
   "outputs": [],
   "source": [
    "input_size = 22 + 16 * 28\n",
    "output_size = 1\n",
    "\n",
    "x_train = np.load('/home/vova/Downloads/hlt_client/hlt_client/data/train_comb_features_half.npy')\n",
    "y_train = np.load('/home/vova/Downloads/hlt_client/hlt_client/data/train_comb_outputs_half.npy')\n",
    "x_test = np.load('/home/vova/Downloads/hlt_client/hlt_client/data/test_comb_features_half.npy')\n",
    "y_test = np.load('/home/vova/Downloads/hlt_client/hlt_client/data/test_comb_outputs_half.npy')\n"
   ]
  },
  {
   "cell_type": "code",
   "execution_count": null,
   "metadata": {},
   "outputs": [],
   "source": [
    "model = Sequential([\n",
    "    Input(shape=(input_size)),\n",
    "    Dense(500, kernel_initializer='normal'),\n",
    "    Activation('relu'),\n",
    "    Dense(500, kernel_initializer='normal'),\n",
    "    Activation('relu'),\n",
    "    Dense(500, kernel_initializer='normal'),\n",
    "    Activation('relu'),\n",
    "    Dense(500, kernel_initializer='normal'),\n",
    "    Activation('relu'),\n",
    "    Dense(500, kernel_initializer='normal'),\n",
    "    Activation('relu'),\n",
    "    Dense(500, kernel_initializer='normal'),\n",
    "    Activation('relu'),\n",
    "    Dense(1, kernel_initializer='normal'),\n",
    "    Activation('linear'),\n",
    "])\n",
    "\n",
    "model.summary()"
   ]
  },
  {
   "cell_type": "code",
   "execution_count": null,
   "metadata": {},
   "outputs": [],
   "source": [
    "model.compile(\n",
    "    optimizer=Adam(lr=0.01, clipnorm=0.01),\n",
    "    loss=tf.keras.losses.MeanSquaredError(),\n",
    "    metrics=['mae', 'mse'],\n",
    ")\n",
    "callbacks = [\n",
    "    tf.keras.callbacks.TensorBoard(log_dir=f\"../runs/{time()}\", update_freq='epoch')\n",
    "]\n",
    "gc.collect()"
   ]
  },
  {
   "cell_type": "code",
   "execution_count": null,
   "metadata": {
    "tags": []
   },
   "outputs": [],
   "source": [
    "\n",
    "model.fit(\n",
    "    x=x_train,\n",
    "    y=y_train[:,1],\n",
    "    validation_data=(x_test, y_test[:,1]),\n",
    "    epochs=epochs,\n",
    "    batch_size=batch_size,\n",
    "    callbacks=callbacks\n",
    ")"
   ]
  },
  {
   "cell_type": "code",
   "execution_count": null,
   "metadata": {},
   "outputs": [],
   "source": [
    "i = 20004\n",
    "predicted = list(model.predict(x_train[i].reshape(1,-1))[0])\n",
    "expected = list(y_train[i])\n",
    "print(f'{expected=}\\n{predicted=}')\n",
    "predicted2 = list(model.predict(x_test[i].reshape(1,-1))[0])\n",
    "expected2 = list(y_test[i])\n",
    "print(f'{expected2=}\\n{predicted2=}')"
   ]
  },
  {
   "cell_type": "code",
   "execution_count": null,
   "metadata": {},
   "outputs": [],
   "source": [
    "model.save('weights.h5')"
   ]
  },
  {
   "cell_type": "code",
   "execution_count": null,
   "metadata": {},
   "outputs": [],
   "source": [
    "from sklearn.linear_model import LinearRegression\n",
    "from sklearn.ensemble import RandomForestRegressor\n",
    "gc.collect()"
   ]
  },
  {
   "cell_type": "code",
   "execution_count": null,
   "metadata": {},
   "outputs": [],
   "source": [
    "reg = RandomForestRegressor(max_depth=10, verbose=True, n_jobs=8)\n",
    "reg.fit(x_train[1:20000], y_train[1:20000])"
   ]
  },
  {
   "cell_type": "code",
   "execution_count": null,
   "metadata": {},
   "outputs": [],
   "source": [
    "print(f'train: {reg.score(x_train, y_train)}')\n",
    "print(f'test: {reg.score(x_test, y_test)}')"
   ]
  },
  {
   "cell_type": "code",
   "execution_count": null,
   "metadata": {},
   "outputs": [],
   "source": [
    "i = 20004\n",
    "predicted = list(reg.predict(x_train[i].reshape(1,-1))[0])\n",
    "expected = list(y_train[i])\n",
    "print(f'{expected=}\\n{predicted=}')\n",
    "predicted2 = list(reg.predict(x_test[i].reshape(1,-1))[0])\n",
    "expected2 = list(y_test[i])\n",
    "print(f'{expected2=}\\n{predicted2=}')"
   ]
  },
  {
   "cell_type": "code",
   "execution_count": null,
   "metadata": {},
   "outputs": [],
   "source": [
    "import matplotlib.pyplot as plt\n",
    "from feature_extractor import Feature, Move, FeaturePlanets\n",
    "start = 110_000\n",
    "x_data = x_train[start:5000+start,22 + FeaturePlanets.angle]\n",
    "# y_data0 = y_train[start:5000+start,Move.magnitude]\n",
    "y_data1 = y_train[start:5000+start,Move.angle]\n",
    "mask = y_data1[x_data < 400]\n",
    "# [x_data < 400]\n",
    "\n",
    "# plt.plot(x_data[x_data < 400][mask < 361], y_data0[x_data < 400][mask < 361], 'bo')\n",
    "# plt.show()\n",
    "plt.plot(x_data[x_data < 400][mask < 361], y_data1[x_data < 400][mask < 361], 'bo')\n",
    "plt.show()\n",
    "\n",
    "print(x_data[:100])"
   ]
  },
  {
   "cell_type": "code",
   "execution_count": null,
   "metadata": {},
   "outputs": [],
   "source": []
  },
  {
   "cell_type": "code",
   "execution_count": null,
   "metadata": {},
   "outputs": [],
   "source": []
  }
 ]
}